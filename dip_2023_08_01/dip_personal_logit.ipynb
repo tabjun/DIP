{
 "cells": [
  {
   "cell_type": "markdown",
   "metadata": {},
   "source": [
    "#### packages"
   ]
  },
  {
   "cell_type": "code",
   "execution_count": 6,
   "metadata": {},
   "outputs": [],
   "source": [
    "import pandas as pd\n",
    "import numpy as np\n",
    "import statsmodels.api as sm\n",
    "import sklearn\n",
    "import scipy"
   ]
  },
  {
   "cell_type": "code",
   "execution_count": 7,
   "metadata": {},
   "outputs": [],
   "source": [
    "pd.options.display.float_format = '{:.5f}'.format"
   ]
  },
  {
   "cell_type": "code",
   "execution_count": 4,
   "metadata": {},
   "outputs": [
    {
     "name": "stderr",
     "output_type": "stream",
     "text": [
      "C:\\Users\\jun99\\AppData\\Local\\Temp\\ipykernel_22316\\2106068084.py:2: DeprecationWarning: `set_matplotlib_formats` is deprecated since IPython 7.23, directly use `matplotlib_inline.backend_inline.set_matplotlib_formats()`\n",
      "  set_matplotlib_formats('retina')\n"
     ]
    }
   ],
   "source": [
    "from IPython.display import set_matplotlib_formats\n",
    "set_matplotlib_formats('retina')"
   ]
  },
  {
   "cell_type": "markdown",
   "metadata": {},
   "source": [
    "##### Data"
   ]
  },
  {
   "cell_type": "code",
   "execution_count": 8,
   "metadata": {},
   "outputs": [
    {
     "data": {
      "text/plain": [
       "pid              0\n",
       "majorcat         0\n",
       "province         0\n",
       "area             0\n",
       "sex              0\n",
       "              ... \n",
       "삶의만족도_개인         0\n",
       "삶의만족도_관계         0\n",
       "삶의만족도_소속집단       0\n",
       "종사자수          1235\n",
       "업무만족도            0\n",
       "Length: 117, dtype: int64"
      ]
     },
     "execution_count": 8,
     "metadata": {},
     "output_type": "execute_result"
    }
   ],
   "source": [
    "df = pd.read_csv('2023_07_27_data_step.csv', encoding='cp949')\n",
    "df.isnull().sum()"
   ]
  },
  {
   "cell_type": "code",
   "execution_count": 9,
   "metadata": {},
   "outputs": [],
   "source": [
    "df_copy = df.copy()"
   ]
  },
  {
   "cell_type": "code",
   "execution_count": 10,
   "metadata": {},
   "outputs": [
    {
     "data": {
      "text/plain": [
       "Index(['supply', 'insurance', 'work_timeB', '나이', '학점', '성별', '건강상태', '결혼상태',\n",
       "       '대학지역', '전공일치', '본전공', '재학중일자리경험', '삶의만족도_개인', '삶의만족도_관계', '삶의만족도_소속집단',\n",
       "       '종사자수', '업무만족도'],\n",
       "      dtype='object')"
      ]
     },
     "execution_count": 10,
     "metadata": {},
     "output_type": "execute_result"
    }
   ],
   "source": [
    "df_copy.columns[100:]"
   ]
  },
  {
   "cell_type": "code",
   "execution_count": 11,
   "metadata": {},
   "outputs": [
    {
     "name": "stdout",
     "output_type": "stream",
     "text": [
      "Optimization terminated successfully.\n",
      "         Current function value: 0.333293\n",
      "         Iterations 7\n"
     ]
    },
    {
     "data": {
      "text/html": [
       "<table class=\"simpletable\">\n",
       "<caption>Logit Regression Results</caption>\n",
       "<tr>\n",
       "  <th>Dep. Variable:</th>       <td>LongWork2</td>    <th>  No. Observations:  </th>  <td>   247</td>  \n",
       "</tr>\n",
       "<tr>\n",
       "  <th>Model:</th>                 <td>Logit</td>      <th>  Df Residuals:      </th>  <td>   241</td>  \n",
       "</tr>\n",
       "<tr>\n",
       "  <th>Method:</th>                 <td>MLE</td>       <th>  Df Model:          </th>  <td>     5</td>  \n",
       "</tr>\n",
       "<tr>\n",
       "  <th>Date:</th>            <td>Fri, 28 Jul 2023</td> <th>  Pseudo R-squ.:     </th>  <td>0.1682</td>  \n",
       "</tr>\n",
       "<tr>\n",
       "  <th>Time:</th>                <td>16:57:37</td>     <th>  Log-Likelihood:    </th> <td> -82.323</td> \n",
       "</tr>\n",
       "<tr>\n",
       "  <th>converged:</th>             <td>True</td>       <th>  LL-Null:           </th> <td> -98.967</td> \n",
       "</tr>\n",
       "<tr>\n",
       "  <th>Covariance Type:</th>     <td>nonrobust</td>    <th>  LLR p-value:       </th> <td>3.299e-06</td>\n",
       "</tr>\n",
       "</table>\n",
       "<table class=\"simpletable\">\n",
       "<tr>\n",
       "                <td></td>                  <th>coef</th>     <th>std err</th>      <th>z</th>      <th>P>|z|</th>  <th>[0.025</th>    <th>0.975]</th>  \n",
       "</tr>\n",
       "<tr>\n",
       "  <th>Intercept</th>                    <td>  -10.6423</td> <td>    3.018</td> <td>   -3.526</td> <td> 0.000</td> <td>  -16.558</td> <td>   -4.727</td>\n",
       "</tr>\n",
       "<tr>\n",
       "  <th>C(성별, Treatment(\"여자\"))[T.남자]</th> <td>    0.1697</td> <td>    0.487</td> <td>    0.348</td> <td> 0.728</td> <td>   -0.785</td> <td>    1.125</td>\n",
       "</tr>\n",
       "<tr>\n",
       "  <th>C(건강상태)[T.건강하지않다]</th>            <td>   -0.6552</td> <td>    0.804</td> <td>   -0.815</td> <td> 0.415</td> <td>   -2.230</td> <td>    0.920</td>\n",
       "</tr>\n",
       "<tr>\n",
       "  <th>C(건강상태)[T.보통이다]</th>              <td>   -0.2733</td> <td>    0.490</td> <td>   -0.558</td> <td> 0.577</td> <td>   -1.233</td> <td>    0.687</td>\n",
       "</tr>\n",
       "<tr>\n",
       "  <th>C(결혼상태)[T.미혼]</th>                <td>   -1.1813</td> <td>    0.875</td> <td>   -1.350</td> <td> 0.177</td> <td>   -2.896</td> <td>    0.533</td>\n",
       "</tr>\n",
       "<tr>\n",
       "  <th>age</th>                          <td>    0.3752</td> <td>    0.101</td> <td>    3.722</td> <td> 0.000</td> <td>    0.178</td> <td>    0.573</td>\n",
       "</tr>\n",
       "</table>"
      ],
      "text/latex": [
       "\\begin{center}\n",
       "\\begin{tabular}{lclc}\n",
       "\\toprule\n",
       "\\textbf{Dep. Variable:}               &    LongWork2     & \\textbf{  No. Observations:  } &      247    \\\\\n",
       "\\textbf{Model:}                       &      Logit       & \\textbf{  Df Residuals:      } &      241    \\\\\n",
       "\\textbf{Method:}                      &       MLE        & \\textbf{  Df Model:          } &        5    \\\\\n",
       "\\textbf{Date:}                        & Fri, 28 Jul 2023 & \\textbf{  Pseudo R-squ.:     } &   0.1682    \\\\\n",
       "\\textbf{Time:}                        &     16:57:37     & \\textbf{  Log-Likelihood:    } &   -82.323   \\\\\n",
       "\\textbf{converged:}                   &       True       & \\textbf{  LL-Null:           } &   -98.967   \\\\\n",
       "\\textbf{Covariance Type:}             &    nonrobust     & \\textbf{  LLR p-value:       } & 3.299e-06   \\\\\n",
       "\\bottomrule\n",
       "\\end{tabular}\n",
       "\\begin{tabular}{lcccccc}\n",
       "                                      & \\textbf{coef} & \\textbf{std err} & \\textbf{z} & \\textbf{P$> |$z$|$} & \\textbf{[0.025} & \\textbf{0.975]}  \\\\\n",
       "\\midrule\n",
       "\\textbf{Intercept}                    &     -10.6423  &        3.018     &    -3.526  &         0.000        &      -16.558    &       -4.727     \\\\\n",
       "\\textbf{C(성별, Treatment(\"여자\"))[T.남자]} &       0.1697  &        0.487     &     0.348  &         0.728        &       -0.785    &        1.125     \\\\\n",
       "\\textbf{C(건강상태)[T.건강하지않다]}            &      -0.6552  &        0.804     &    -0.815  &         0.415        &       -2.230    &        0.920     \\\\\n",
       "\\textbf{C(건강상태)[T.보통이다]}              &      -0.2733  &        0.490     &    -0.558  &         0.577        &       -1.233    &        0.687     \\\\\n",
       "\\textbf{C(결혼상태)[T.미혼]}                &      -1.1813  &        0.875     &    -1.350  &         0.177        &       -2.896    &        0.533     \\\\\n",
       "\\textbf{age}                          &       0.3752  &        0.101     &     3.722  &         0.000        &        0.178    &        0.573     \\\\\n",
       "\\bottomrule\n",
       "\\end{tabular}\n",
       "%\\caption{Logit Regression Results}\n",
       "\\end{center}"
      ],
      "text/plain": [
       "<class 'statsmodels.iolib.summary.Summary'>\n",
       "\"\"\"\n",
       "                           Logit Regression Results                           \n",
       "==============================================================================\n",
       "Dep. Variable:              LongWork2   No. Observations:                  247\n",
       "Model:                          Logit   Df Residuals:                      241\n",
       "Method:                           MLE   Df Model:                            5\n",
       "Date:                Fri, 28 Jul 2023   Pseudo R-squ.:                  0.1682\n",
       "Time:                        16:57:37   Log-Likelihood:                -82.323\n",
       "converged:                       True   LL-Null:                       -98.967\n",
       "Covariance Type:            nonrobust   LLR p-value:                 3.299e-06\n",
       "================================================================================================\n",
       "                                   coef    std err          z      P>|z|      [0.025      0.975]\n",
       "------------------------------------------------------------------------------------------------\n",
       "Intercept                      -10.6423      3.018     -3.526      0.000     -16.558      -4.727\n",
       "C(성별, Treatment(\"여자\"))[T.남자]     0.1697      0.487      0.348      0.728      -0.785       1.125\n",
       "C(건강상태)[T.건강하지않다]               -0.6552      0.804     -0.815      0.415      -2.230       0.920\n",
       "C(건강상태)[T.보통이다]                 -0.2733      0.490     -0.558      0.577      -1.233       0.687\n",
       "C(결혼상태)[T.미혼]                   -1.1813      0.875     -1.350      0.177      -2.896       0.533\n",
       "age                              0.3752      0.101      3.722      0.000       0.178       0.573\n",
       "================================================================================================\n",
       "\"\"\""
      ]
     },
     "execution_count": 11,
     "metadata": {},
     "output_type": "execute_result"
    }
   ],
   "source": [
    "daegu = df_copy[df_copy['area']=='대구'].copy()\n",
    "\n",
    "model = sm.Logit.from_formula('''LongWork2 ~ age + C(성별,Treatment(\"여자\")) + C(건강상태) + C(결혼상태)''', daegu).fit()\n",
    "model.summary()"
   ]
  },
  {
   "cell_type": "code",
   "execution_count": 12,
   "metadata": {},
   "outputs": [
    {
     "name": "stdout",
     "output_type": "stream",
     "text": [
      "모델 AIC:176.64696084126564\n",
      "\n",
      "\n"
     ]
    },
    {
     "data": {
      "text/html": [
       "<div>\n",
       "<style scoped>\n",
       "    .dataframe tbody tr th:only-of-type {\n",
       "        vertical-align: middle;\n",
       "    }\n",
       "\n",
       "    .dataframe tbody tr th {\n",
       "        vertical-align: top;\n",
       "    }\n",
       "\n",
       "    .dataframe thead th {\n",
       "        text-align: right;\n",
       "    }\n",
       "</style>\n",
       "<table border=\"1\" class=\"dataframe\">\n",
       "  <thead>\n",
       "    <tr style=\"text-align: right;\">\n",
       "      <th></th>\n",
       "      <th>OR</th>\n",
       "      <th>Lower CI</th>\n",
       "      <th>Upper CI</th>\n",
       "    </tr>\n",
       "  </thead>\n",
       "  <tbody>\n",
       "    <tr>\n",
       "      <th>Intercept</th>\n",
       "      <td>0.00002</td>\n",
       "      <td>0.00000</td>\n",
       "      <td>0.00886</td>\n",
       "    </tr>\n",
       "    <tr>\n",
       "      <th>C(성별, Treatment(\"여자\"))[T.남자]</th>\n",
       "      <td>1.18499</td>\n",
       "      <td>0.45608</td>\n",
       "      <td>3.07883</td>\n",
       "    </tr>\n",
       "    <tr>\n",
       "      <th>C(건강상태)[T.건강하지않다]</th>\n",
       "      <td>0.51934</td>\n",
       "      <td>0.10751</td>\n",
       "      <td>2.50884</td>\n",
       "    </tr>\n",
       "    <tr>\n",
       "      <th>C(건강상태)[T.보통이다]</th>\n",
       "      <td>0.76083</td>\n",
       "      <td>0.29133</td>\n",
       "      <td>1.98694</td>\n",
       "    </tr>\n",
       "    <tr>\n",
       "      <th>C(결혼상태)[T.미혼]</th>\n",
       "      <td>0.30689</td>\n",
       "      <td>0.05526</td>\n",
       "      <td>1.70431</td>\n",
       "    </tr>\n",
       "    <tr>\n",
       "      <th>age</th>\n",
       "      <td>1.45524</td>\n",
       "      <td>1.19439</td>\n",
       "      <td>1.77306</td>\n",
       "    </tr>\n",
       "  </tbody>\n",
       "</table>\n",
       "</div>"
      ],
      "text/plain": [
       "                                  OR  Lower CI  Upper CI\n",
       "Intercept                    0.00002   0.00000   0.00886\n",
       "C(성별, Treatment(\"여자\"))[T.남자] 1.18499   0.45608   3.07883\n",
       "C(건강상태)[T.건강하지않다]            0.51934   0.10751   2.50884\n",
       "C(건강상태)[T.보통이다]              0.76083   0.29133   1.98694\n",
       "C(결혼상태)[T.미혼]                0.30689   0.05526   1.70431\n",
       "age                          1.45524   1.19439   1.77306"
      ]
     },
     "execution_count": 12,
     "metadata": {},
     "output_type": "execute_result"
    }
   ],
   "source": [
    "print(f'모델 AIC:{model.aic}')\n",
    "print('\\n')\n",
    "\n",
    "# 오즈비 계산(Confidence interval 포함)\n",
    "odds_ratios = pd.DataFrame(\n",
    "    {\n",
    "        \"OR\": model.params,\n",
    "        \"Lower CI\": model.conf_int()[0],\n",
    "        \"Upper CI\": model.conf_int()[1],\n",
    "    }\n",
    ")\n",
    "odds_ratios = np.exp(odds_ratios)\n",
    "odds_ratios"
   ]
  },
  {
   "cell_type": "code",
   "execution_count": 13,
   "metadata": {},
   "outputs": [
    {
     "name": "stdout",
     "output_type": "stream",
     "text": [
      "Optimization terminated successfully.\n",
      "         Current function value: 0.334900\n",
      "         Iterations 7\n"
     ]
    },
    {
     "data": {
      "text/html": [
       "<table class=\"simpletable\">\n",
       "<caption>Logit Regression Results</caption>\n",
       "<tr>\n",
       "  <th>Dep. Variable:</th>       <td>LongWork2</td>    <th>  No. Observations:  </th>   <td>  4783</td>  \n",
       "</tr>\n",
       "<tr>\n",
       "  <th>Model:</th>                 <td>Logit</td>      <th>  Df Residuals:      </th>   <td>  4772</td>  \n",
       "</tr>\n",
       "<tr>\n",
       "  <th>Method:</th>                 <td>MLE</td>       <th>  Df Model:          </th>   <td>    10</td>  \n",
       "</tr>\n",
       "<tr>\n",
       "  <th>Date:</th>            <td>Fri, 28 Jul 2023</td> <th>  Pseudo R-squ.:     </th>   <td>0.1387</td>  \n",
       "</tr>\n",
       "<tr>\n",
       "  <th>Time:</th>                <td>16:57:39</td>     <th>  Log-Likelihood:    </th>  <td> -1601.8</td> \n",
       "</tr>\n",
       "<tr>\n",
       "  <th>converged:</th>             <td>True</td>       <th>  LL-Null:           </th>  <td> -1859.9</td> \n",
       "</tr>\n",
       "<tr>\n",
       "  <th>Covariance Type:</th>     <td>nonrobust</td>    <th>  LLR p-value:       </th> <td>1.629e-104</td>\n",
       "</tr>\n",
       "</table>\n",
       "<table class=\"simpletable\">\n",
       "<tr>\n",
       "                    <td></td>                      <th>coef</th>     <th>std err</th>      <th>z</th>      <th>P>|z|</th>  <th>[0.025</th>    <th>0.975]</th>  \n",
       "</tr>\n",
       "<tr>\n",
       "  <th>Intercept</th>                            <td>   -9.7013</td> <td>    0.654</td> <td>  -14.842</td> <td> 0.000</td> <td>  -10.982</td> <td>   -8.420</td>\n",
       "</tr>\n",
       "<tr>\n",
       "  <th>C(성별, Treatment(\"여자\"))[T.남자]</th>         <td>   -0.1505</td> <td>    0.106</td> <td>   -1.426</td> <td> 0.154</td> <td>   -0.358</td> <td>    0.056</td>\n",
       "</tr>\n",
       "<tr>\n",
       "  <th>C(건강상태, Treatment(\"건강하지않다\"))[T.건강하다]</th> <td>    0.1175</td> <td>    0.151</td> <td>    0.780</td> <td> 0.435</td> <td>   -0.178</td> <td>    0.413</td>\n",
       "</tr>\n",
       "<tr>\n",
       "  <th>C(건강상태, Treatment(\"건강하지않다\"))[T.보통이다]</th> <td>   -0.0689</td> <td>    0.167</td> <td>   -0.414</td> <td> 0.679</td> <td>   -0.395</td> <td>    0.258</td>\n",
       "</tr>\n",
       "<tr>\n",
       "  <th>C(결혼상태, Treatment(\"미혼\"))[T.기혼]</th>       <td>    1.3639</td> <td>    0.202</td> <td>    6.744</td> <td> 0.000</td> <td>    0.967</td> <td>    1.760</td>\n",
       "</tr>\n",
       "<tr>\n",
       "  <th>C(대학지역, Treatment('비수도권'))[T.수도권]</th>    <td>    0.0915</td> <td>    0.094</td> <td>    0.975</td> <td> 0.330</td> <td>   -0.092</td> <td>    0.275</td>\n",
       "</tr>\n",
       "<tr>\n",
       "  <th>C(전공일치, Treatment(\"맞지않다\"))[T.보통이다]</th>   <td>    0.0669</td> <td>    0.120</td> <td>    0.559</td> <td> 0.576</td> <td>   -0.168</td> <td>    0.302</td>\n",
       "</tr>\n",
       "<tr>\n",
       "  <th>C(전공일치, Treatment(\"맞지않다\"))[T.잘맞다]</th>    <td>    0.5293</td> <td>    0.107</td> <td>    4.953</td> <td> 0.000</td> <td>    0.320</td> <td>    0.739</td>\n",
       "</tr>\n",
       "<tr>\n",
       "  <th>C(재학중일자리경험, Treatment('없다'))[T.있다]</th>   <td>   -0.8043</td> <td>    0.094</td> <td>   -8.589</td> <td> 0.000</td> <td>   -0.988</td> <td>   -0.621</td>\n",
       "</tr>\n",
       "<tr>\n",
       "  <th>나이</th>                                   <td>    0.3250</td> <td>    0.023</td> <td>   14.266</td> <td> 0.000</td> <td>    0.280</td> <td>    0.370</td>\n",
       "</tr>\n",
       "<tr>\n",
       "  <th>학점</th>                                   <td>   -0.2363</td> <td>    0.088</td> <td>   -2.686</td> <td> 0.007</td> <td>   -0.409</td> <td>   -0.064</td>\n",
       "</tr>\n",
       "</table>"
      ],
      "text/latex": [
       "\\begin{center}\n",
       "\\begin{tabular}{lclc}\n",
       "\\toprule\n",
       "\\textbf{Dep. Variable:}                       &    LongWork2     & \\textbf{  No. Observations:  } &     4783    \\\\\n",
       "\\textbf{Model:}                               &      Logit       & \\textbf{  Df Residuals:      } &     4772    \\\\\n",
       "\\textbf{Method:}                              &       MLE        & \\textbf{  Df Model:          } &       10    \\\\\n",
       "\\textbf{Date:}                                & Fri, 28 Jul 2023 & \\textbf{  Pseudo R-squ.:     } &   0.1387    \\\\\n",
       "\\textbf{Time:}                                &     16:57:39     & \\textbf{  Log-Likelihood:    } &   -1601.8   \\\\\n",
       "\\textbf{converged:}                           &       True       & \\textbf{  LL-Null:           } &   -1859.9   \\\\\n",
       "\\textbf{Covariance Type:}                     &    nonrobust     & \\textbf{  LLR p-value:       } & 1.629e-104  \\\\\n",
       "\\bottomrule\n",
       "\\end{tabular}\n",
       "\\begin{tabular}{lcccccc}\n",
       "                                              & \\textbf{coef} & \\textbf{std err} & \\textbf{z} & \\textbf{P$> |$z$|$} & \\textbf{[0.025} & \\textbf{0.975]}  \\\\\n",
       "\\midrule\n",
       "\\textbf{Intercept}                            &      -9.7013  &        0.654     &   -14.842  &         0.000        &      -10.982    &       -8.420     \\\\\n",
       "\\textbf{C(성별, Treatment(\"여자\"))[T.남자]}         &      -0.1505  &        0.106     &    -1.426  &         0.154        &       -0.358    &        0.056     \\\\\n",
       "\\textbf{C(건강상태, Treatment(\"건강하지않다\"))[T.건강하다]} &       0.1175  &        0.151     &     0.780  &         0.435        &       -0.178    &        0.413     \\\\\n",
       "\\textbf{C(건강상태, Treatment(\"건강하지않다\"))[T.보통이다]} &      -0.0689  &        0.167     &    -0.414  &         0.679        &       -0.395    &        0.258     \\\\\n",
       "\\textbf{C(결혼상태, Treatment(\"미혼\"))[T.기혼]}       &       1.3639  &        0.202     &     6.744  &         0.000        &        0.967    &        1.760     \\\\\n",
       "\\textbf{C(대학지역, Treatment('비수도권'))[T.수도권]}    &       0.0915  &        0.094     &     0.975  &         0.330        &       -0.092    &        0.275     \\\\\n",
       "\\textbf{C(전공일치, Treatment(\"맞지않다\"))[T.보통이다]}   &       0.0669  &        0.120     &     0.559  &         0.576        &       -0.168    &        0.302     \\\\\n",
       "\\textbf{C(전공일치, Treatment(\"맞지않다\"))[T.잘맞다]}    &       0.5293  &        0.107     &     4.953  &         0.000        &        0.320    &        0.739     \\\\\n",
       "\\textbf{C(재학중일자리경험, Treatment('없다'))[T.있다]}   &      -0.8043  &        0.094     &    -8.589  &         0.000        &       -0.988    &       -0.621     \\\\\n",
       "\\textbf{나이}                                   &       0.3250  &        0.023     &    14.266  &         0.000        &        0.280    &        0.370     \\\\\n",
       "\\textbf{학점}                                   &      -0.2363  &        0.088     &    -2.686  &         0.007        &       -0.409    &       -0.064     \\\\\n",
       "\\bottomrule\n",
       "\\end{tabular}\n",
       "%\\caption{Logit Regression Results}\n",
       "\\end{center}"
      ],
      "text/plain": [
       "<class 'statsmodels.iolib.summary.Summary'>\n",
       "\"\"\"\n",
       "                           Logit Regression Results                           \n",
       "==============================================================================\n",
       "Dep. Variable:              LongWork2   No. Observations:                 4783\n",
       "Model:                          Logit   Df Residuals:                     4772\n",
       "Method:                           MLE   Df Model:                           10\n",
       "Date:                Fri, 28 Jul 2023   Pseudo R-squ.:                  0.1387\n",
       "Time:                        16:57:39   Log-Likelihood:                -1601.8\n",
       "converged:                       True   LL-Null:                       -1859.9\n",
       "Covariance Type:            nonrobust   LLR p-value:                1.629e-104\n",
       "========================================================================================================\n",
       "                                           coef    std err          z      P>|z|      [0.025      0.975]\n",
       "--------------------------------------------------------------------------------------------------------\n",
       "Intercept                               -9.7013      0.654    -14.842      0.000     -10.982      -8.420\n",
       "C(성별, Treatment(\"여자\"))[T.남자]            -0.1505      0.106     -1.426      0.154      -0.358       0.056\n",
       "C(건강상태, Treatment(\"건강하지않다\"))[T.건강하다]     0.1175      0.151      0.780      0.435      -0.178       0.413\n",
       "C(건강상태, Treatment(\"건강하지않다\"))[T.보통이다]    -0.0689      0.167     -0.414      0.679      -0.395       0.258\n",
       "C(결혼상태, Treatment(\"미혼\"))[T.기혼]           1.3639      0.202      6.744      0.000       0.967       1.760\n",
       "C(대학지역, Treatment('비수도권'))[T.수도권]        0.0915      0.094      0.975      0.330      -0.092       0.275\n",
       "C(전공일치, Treatment(\"맞지않다\"))[T.보통이다]       0.0669      0.120      0.559      0.576      -0.168       0.302\n",
       "C(전공일치, Treatment(\"맞지않다\"))[T.잘맞다]        0.5293      0.107      4.953      0.000       0.320       0.739\n",
       "C(재학중일자리경험, Treatment('없다'))[T.있다]      -0.8043      0.094     -8.589      0.000      -0.988      -0.621\n",
       "나이                                       0.3250      0.023     14.266      0.000       0.280       0.370\n",
       "학점                                      -0.2363      0.088     -2.686      0.007      -0.409      -0.064\n",
       "========================================================================================================\n",
       "\"\"\""
      ]
     },
     "execution_count": 13,
     "metadata": {},
     "output_type": "execute_result"
    }
   ],
   "source": [
    "model_2 = sm.Logit.from_formula('''LongWork2 ~ 나이 + C(성별,Treatment(\"여자\")) + C(건강상태,Treatment(\"건강하지않다\")) \n",
    "    + C(결혼상태, Treatment(\"미혼\"))+ C(대학지역,Treatment('비수도권')) + C(전공일치,Treatment(\"맞지않다\")) \n",
    "    + 학점 + C(재학중일자리경험,Treatment('없다'))''', df_copy).fit()\n",
    "model_2.summary()"
   ]
  },
  {
   "cell_type": "code",
   "execution_count": 10,
   "metadata": {},
   "outputs": [],
   "source": [
    "### 수도권\n",
    "# 대구 셋, 수도권 셋, 지방권 셋\n",
    "capital = df_copy[(df_copy['area']=='서울')|(df_copy['area']=='경기')].copy()\n",
    "\n",
    "country_side = df_copy[(df_copy['area']!='서울')&(df_copy['area']!='경기')].copy()\n"
   ]
  },
  {
   "cell_type": "code",
   "execution_count": 15,
   "metadata": {},
   "outputs": [
    {
     "data": {
      "text/plain": [
       "LongWork2\n",
       "0    213\n",
       "1     34\n",
       "Name: count, dtype: int64"
      ]
     },
     "execution_count": 15,
     "metadata": {},
     "output_type": "execute_result"
    }
   ],
   "source": [
    "daegu['LongWork2'].value_counts()"
   ]
  }
 ],
 "metadata": {
  "kernelspec": {
   "display_name": "'reg'",
   "language": "python",
   "name": "python3"
  },
  "language_info": {
   "codemirror_mode": {
    "name": "ipython",
    "version": 3
   },
   "file_extension": ".py",
   "mimetype": "text/x-python",
   "name": "python",
   "nbconvert_exporter": "python",
   "pygments_lexer": "ipython3",
   "version": "3.11.3"
  },
  "orig_nbformat": 4
 },
 "nbformat": 4,
 "nbformat_minor": 2
}
